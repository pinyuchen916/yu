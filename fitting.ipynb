{
 "cells": [
  {
   "cell_type": "code",
   "execution_count": 1,
   "metadata": {},
   "outputs": [],
   "source": [
    "import pandas as pd"
   ]
  },
  {
   "cell_type": "code",
   "execution_count": 2,
   "metadata": {},
   "outputs": [],
   "source": [
    "data = pd.read_excel(\"strategy_results_train.xlsx\")"
   ]
  },
  {
   "cell_type": "code",
   "execution_count": 3,
   "metadata": {},
   "outputs": [
    {
     "data": {
      "text/html": [
       "<div>\n",
       "<style scoped>\n",
       "    .dataframe tbody tr th:only-of-type {\n",
       "        vertical-align: middle;\n",
       "    }\n",
       "\n",
       "    .dataframe tbody tr th {\n",
       "        vertical-align: top;\n",
       "    }\n",
       "\n",
       "    .dataframe thead th {\n",
       "        text-align: right;\n",
       "    }\n",
       "</style>\n",
       "<table border=\"1\" class=\"dataframe\">\n",
       "  <thead>\n",
       "    <tr style=\"text-align: right;\">\n",
       "      <th></th>\n",
       "      <th>id</th>\n",
       "      <th>label</th>\n",
       "      <th>date</th>\n",
       "      <th>open</th>\n",
       "      <th>high</th>\n",
       "      <th>low</th>\n",
       "      <th>open</th>\n",
       "      <th>volume</th>\n",
       "      <th>ADXR5</th>\n",
       "      <th>APO5</th>\n",
       "      <th>CMO5</th>\n",
       "    </tr>\n",
       "  </thead>\n",
       "  <tbody>\n",
       "    <tr>\n",
       "      <td>0</td>\n",
       "      <td>SHSE.600085_201501</td>\n",
       "      <td>0</td>\n",
       "      <td>2018-12-28</td>\n",
       "      <td>27.500000</td>\n",
       "      <td>27.580000</td>\n",
       "      <td>26.99</td>\n",
       "      <td>27.180000</td>\n",
       "      <td>3575585.0</td>\n",
       "      <td>48.464822</td>\n",
       "      <td>-0.695641</td>\n",
       "      <td>-6.625071</td>\n",
       "    </tr>\n",
       "    <tr>\n",
       "      <td>1</td>\n",
       "      <td>SHSE.600085_201502</td>\n",
       "      <td>1</td>\n",
       "      <td>2019-01-30</td>\n",
       "      <td>26.469999</td>\n",
       "      <td>26.639999</td>\n",
       "      <td>26.41</td>\n",
       "      <td>26.580000</td>\n",
       "      <td>1916529.0</td>\n",
       "      <td>21.870374</td>\n",
       "      <td>-0.084295</td>\n",
       "      <td>-32.122044</td>\n",
       "    </tr>\n",
       "    <tr>\n",
       "      <td>2</td>\n",
       "      <td>SHSE.600085_201503</td>\n",
       "      <td>1</td>\n",
       "      <td>2019-02-27</td>\n",
       "      <td>29.150000</td>\n",
       "      <td>29.760000</td>\n",
       "      <td>28.98</td>\n",
       "      <td>29.370001</td>\n",
       "      <td>11102934.0</td>\n",
       "      <td>49.494110</td>\n",
       "      <td>1.086282</td>\n",
       "      <td>20.563846</td>\n",
       "    </tr>\n",
       "    <tr>\n",
       "      <td>3</td>\n",
       "      <td>SHSE.600085_201504</td>\n",
       "      <td>1</td>\n",
       "      <td>2019-03-29</td>\n",
       "      <td>29.930000</td>\n",
       "      <td>29.940001</td>\n",
       "      <td>29.07</td>\n",
       "      <td>29.160000</td>\n",
       "      <td>10273667.0</td>\n",
       "      <td>30.905367</td>\n",
       "      <td>0.141795</td>\n",
       "      <td>5.865096</td>\n",
       "    </tr>\n",
       "    <tr>\n",
       "      <td>4</td>\n",
       "      <td>SHSE.600085_201505</td>\n",
       "      <td>1</td>\n",
       "      <td>2019-04-29</td>\n",
       "      <td>31.049999</td>\n",
       "      <td>31.459999</td>\n",
       "      <td>30.60</td>\n",
       "      <td>30.680000</td>\n",
       "      <td>7691447.0</td>\n",
       "      <td>38.524427</td>\n",
       "      <td>0.716218</td>\n",
       "      <td>-34.556350</td>\n",
       "    </tr>\n",
       "  </tbody>\n",
       "</table>\n",
       "</div>"
      ],
      "text/plain": [
       "                   id  label       date       open      high    low   \\\n",
       "0  SHSE.600085_201501      0 2018-12-28  27.500000  27.580000  26.99   \n",
       "1  SHSE.600085_201502      1 2019-01-30  26.469999  26.639999  26.41   \n",
       "2  SHSE.600085_201503      1 2019-02-27  29.150000  29.760000  28.98   \n",
       "3  SHSE.600085_201504      1 2019-03-29  29.930000  29.940001  29.07   \n",
       "4  SHSE.600085_201505      1 2019-04-29  31.049999  31.459999  30.60   \n",
       "\n",
       "       open       volume      ADXR5     APO5        CMO5  \n",
       "0  27.180000   3575585.0  48.464822 -0.695641  -6.625071  \n",
       "1  26.580000   1916529.0  21.870374 -0.084295 -32.122044  \n",
       "2  29.370001  11102934.0  49.494110  1.086282  20.563846  \n",
       "3  29.160000  10273667.0  30.905367  0.141795   5.865096  \n",
       "4  30.680000   7691447.0  38.524427  0.716218 -34.556350  "
      ]
     },
     "execution_count": 3,
     "metadata": {},
     "output_type": "execute_result"
    }
   ],
   "source": [
    "data.head()"
   ]
  },
  {
   "cell_type": "code",
   "execution_count": 4,
   "metadata": {},
   "outputs": [],
   "source": [
    "data2 = pd.concat( [data.iloc[:, 1], data.iloc[:, 8:]], axis=1)"
   ]
  },
  {
   "cell_type": "code",
   "execution_count": 5,
   "metadata": {},
   "outputs": [
    {
     "data": {
      "text/html": [
       "<div>\n",
       "<style scoped>\n",
       "    .dataframe tbody tr th:only-of-type {\n",
       "        vertical-align: middle;\n",
       "    }\n",
       "\n",
       "    .dataframe tbody tr th {\n",
       "        vertical-align: top;\n",
       "    }\n",
       "\n",
       "    .dataframe thead th {\n",
       "        text-align: right;\n",
       "    }\n",
       "</style>\n",
       "<table border=\"1\" class=\"dataframe\">\n",
       "  <thead>\n",
       "    <tr style=\"text-align: right;\">\n",
       "      <th></th>\n",
       "      <th>label</th>\n",
       "      <th>ADXR5</th>\n",
       "      <th>APO5</th>\n",
       "      <th>CMO5</th>\n",
       "    </tr>\n",
       "  </thead>\n",
       "  <tbody>\n",
       "    <tr>\n",
       "      <td>0</td>\n",
       "      <td>0</td>\n",
       "      <td>48.464822</td>\n",
       "      <td>-0.695641</td>\n",
       "      <td>-6.625071</td>\n",
       "    </tr>\n",
       "    <tr>\n",
       "      <td>1</td>\n",
       "      <td>1</td>\n",
       "      <td>21.870374</td>\n",
       "      <td>-0.084295</td>\n",
       "      <td>-32.122044</td>\n",
       "    </tr>\n",
       "    <tr>\n",
       "      <td>2</td>\n",
       "      <td>1</td>\n",
       "      <td>49.494110</td>\n",
       "      <td>1.086282</td>\n",
       "      <td>20.563846</td>\n",
       "    </tr>\n",
       "    <tr>\n",
       "      <td>3</td>\n",
       "      <td>1</td>\n",
       "      <td>30.905367</td>\n",
       "      <td>0.141795</td>\n",
       "      <td>5.865096</td>\n",
       "    </tr>\n",
       "    <tr>\n",
       "      <td>4</td>\n",
       "      <td>1</td>\n",
       "      <td>38.524427</td>\n",
       "      <td>0.716218</td>\n",
       "      <td>-34.556350</td>\n",
       "    </tr>\n",
       "  </tbody>\n",
       "</table>\n",
       "</div>"
      ],
      "text/plain": [
       "   label      ADXR5     APO5        CMO5\n",
       "0      0  48.464822 -0.695641  -6.625071\n",
       "1      1  21.870374 -0.084295 -32.122044\n",
       "2      1  49.494110  1.086282  20.563846\n",
       "3      1  30.905367  0.141795   5.865096\n",
       "4      1  38.524427  0.716218 -34.556350"
      ]
     },
     "execution_count": 5,
     "metadata": {},
     "output_type": "execute_result"
    }
   ],
   "source": [
    "data2.head()"
   ]
  },
  {
   "cell_type": "code",
   "execution_count": 6,
   "metadata": {},
   "outputs": [
    {
     "data": {
      "text/plain": [
       "label     False\n",
       " ADXR5     True\n",
       "APO5       True\n",
       " CMO5      True\n",
       "dtype: bool"
      ]
     },
     "execution_count": 6,
     "metadata": {},
     "output_type": "execute_result"
    }
   ],
   "source": [
    "data2.isnull().any()"
   ]
  },
  {
   "cell_type": "code",
   "execution_count": 7,
   "metadata": {},
   "outputs": [
    {
     "data": {
      "text/plain": [
       "label     False\n",
       " ADXR5    False\n",
       "APO5      False\n",
       " CMO5     False\n",
       "dtype: bool"
      ]
     },
     "execution_count": 7,
     "metadata": {},
     "output_type": "execute_result"
    }
   ],
   "source": [
    "data2 = data2.dropna(axis = 0)\n",
    "data2.isnull().any()"
   ]
  },
  {
   "cell_type": "code",
   "execution_count": 8,
   "metadata": {},
   "outputs": [
    {
     "data": {
      "text/plain": [
       "0        0\n",
       "1        1\n",
       "2        1\n",
       "3        1\n",
       "4        1\n",
       "        ..\n",
       "11358    0\n",
       "11359    0\n",
       "11360    1\n",
       "11361    0\n",
       "11362    1\n",
       "Name: label, Length: 11352, dtype: int64"
      ]
     },
     "execution_count": 8,
     "metadata": {},
     "output_type": "execute_result"
    }
   ],
   "source": [
    "y = data2[\"label\"]\n",
    "y"
   ]
  },
  {
   "cell_type": "code",
   "execution_count": 9,
   "metadata": {},
   "outputs": [],
   "source": [
    "X = data2.iloc[:, 1:]"
   ]
  },
  {
   "cell_type": "code",
   "execution_count": 10,
   "metadata": {},
   "outputs": [
    {
     "data": {
      "text/html": [
       "<div>\n",
       "<style scoped>\n",
       "    .dataframe tbody tr th:only-of-type {\n",
       "        vertical-align: middle;\n",
       "    }\n",
       "\n",
       "    .dataframe tbody tr th {\n",
       "        vertical-align: top;\n",
       "    }\n",
       "\n",
       "    .dataframe thead th {\n",
       "        text-align: right;\n",
       "    }\n",
       "</style>\n",
       "<table border=\"1\" class=\"dataframe\">\n",
       "  <thead>\n",
       "    <tr style=\"text-align: right;\">\n",
       "      <th></th>\n",
       "      <th>ADXR5</th>\n",
       "      <th>APO5</th>\n",
       "      <th>CMO5</th>\n",
       "    </tr>\n",
       "  </thead>\n",
       "  <tbody>\n",
       "    <tr>\n",
       "      <td>0</td>\n",
       "      <td>48.464822</td>\n",
       "      <td>-0.695641</td>\n",
       "      <td>-6.625071</td>\n",
       "    </tr>\n",
       "    <tr>\n",
       "      <td>1</td>\n",
       "      <td>21.870374</td>\n",
       "      <td>-0.084295</td>\n",
       "      <td>-32.122044</td>\n",
       "    </tr>\n",
       "    <tr>\n",
       "      <td>2</td>\n",
       "      <td>49.494110</td>\n",
       "      <td>1.086282</td>\n",
       "      <td>20.563846</td>\n",
       "    </tr>\n",
       "    <tr>\n",
       "      <td>3</td>\n",
       "      <td>30.905367</td>\n",
       "      <td>0.141795</td>\n",
       "      <td>5.865096</td>\n",
       "    </tr>\n",
       "    <tr>\n",
       "      <td>4</td>\n",
       "      <td>38.524427</td>\n",
       "      <td>0.716218</td>\n",
       "      <td>-34.556350</td>\n",
       "    </tr>\n",
       "    <tr>\n",
       "      <td>...</td>\n",
       "      <td>...</td>\n",
       "      <td>...</td>\n",
       "      <td>...</td>\n",
       "    </tr>\n",
       "    <tr>\n",
       "      <td>11358</td>\n",
       "      <td>32.369636</td>\n",
       "      <td>3.460192</td>\n",
       "      <td>-36.110469</td>\n",
       "    </tr>\n",
       "    <tr>\n",
       "      <td>11359</td>\n",
       "      <td>63.076472</td>\n",
       "      <td>-2.762948</td>\n",
       "      <td>-49.755564</td>\n",
       "    </tr>\n",
       "    <tr>\n",
       "      <td>11360</td>\n",
       "      <td>41.075448</td>\n",
       "      <td>-1.730512</td>\n",
       "      <td>15.264412</td>\n",
       "    </tr>\n",
       "    <tr>\n",
       "      <td>11361</td>\n",
       "      <td>54.049060</td>\n",
       "      <td>3.766923</td>\n",
       "      <td>26.902289</td>\n",
       "    </tr>\n",
       "    <tr>\n",
       "      <td>11362</td>\n",
       "      <td>35.190196</td>\n",
       "      <td>-0.380321</td>\n",
       "      <td>-17.294760</td>\n",
       "    </tr>\n",
       "  </tbody>\n",
       "</table>\n",
       "<p>11352 rows × 3 columns</p>\n",
       "</div>"
      ],
      "text/plain": [
       "           ADXR5     APO5        CMO5\n",
       "0      48.464822 -0.695641  -6.625071\n",
       "1      21.870374 -0.084295 -32.122044\n",
       "2      49.494110  1.086282  20.563846\n",
       "3      30.905367  0.141795   5.865096\n",
       "4      38.524427  0.716218 -34.556350\n",
       "...          ...       ...        ...\n",
       "11358  32.369636  3.460192 -36.110469\n",
       "11359  63.076472 -2.762948 -49.755564\n",
       "11360  41.075448 -1.730512  15.264412\n",
       "11361  54.049060  3.766923  26.902289\n",
       "11362  35.190196 -0.380321 -17.294760\n",
       "\n",
       "[11352 rows x 3 columns]"
      ]
     },
     "execution_count": 10,
     "metadata": {},
     "output_type": "execute_result"
    }
   ],
   "source": [
    "X"
   ]
  },
  {
   "cell_type": "code",
   "execution_count": 11,
   "metadata": {},
   "outputs": [],
   "source": [
    "X = X.dropna(axis = 0)"
   ]
  },
  {
   "cell_type": "code",
   "execution_count": 12,
   "metadata": {},
   "outputs": [
    {
     "data": {
      "text/plain": [
       " ADXR5    False\n",
       "APO5      False\n",
       " CMO5     False\n",
       "dtype: bool"
      ]
     },
     "execution_count": 12,
     "metadata": {},
     "output_type": "execute_result"
    }
   ],
   "source": [
    "X.isnull().any()"
   ]
  },
  {
   "cell_type": "code",
   "execution_count": 13,
   "metadata": {},
   "outputs": [
    {
     "data": {
      "text/plain": [
       "(11352, 3)"
      ]
     },
     "execution_count": 13,
     "metadata": {},
     "output_type": "execute_result"
    }
   ],
   "source": [
    "X.shape"
   ]
  },
  {
   "cell_type": "code",
   "execution_count": 14,
   "metadata": {},
   "outputs": [
    {
     "name": "stderr",
     "output_type": "stream",
     "text": [
      "D:\\Users\\User\\Downloads\\Anaconda3\\lib\\site-packages\\sklearn\\ensemble\\forest.py:245: FutureWarning: The default value of n_estimators will change from 10 in version 0.20 to 100 in 0.22.\n",
      "  \"10 in version 0.20 to 100 in 0.22.\", FutureWarning)\n"
     ]
    },
    {
     "data": {
      "text/plain": [
       "RandomForestClassifier(bootstrap=True, class_weight=None, criterion='gini',\n",
       "                       max_depth=None, max_features='auto', max_leaf_nodes=None,\n",
       "                       min_impurity_decrease=0.0, min_impurity_split=None,\n",
       "                       min_samples_leaf=1, min_samples_split=2,\n",
       "                       min_weight_fraction_leaf=0.0, n_estimators=10,\n",
       "                       n_jobs=None, oob_score=False, random_state=None,\n",
       "                       verbose=0, warm_start=False)"
      ]
     },
     "execution_count": 14,
     "metadata": {},
     "output_type": "execute_result"
    }
   ],
   "source": [
    "from sklearn.ensemble import RandomForestClassifier\n",
    "clf = RandomForestClassifier()\n",
    "clf.fit(X, y)"
   ]
  },
  {
   "cell_type": "code",
   "execution_count": null,
   "metadata": {},
   "outputs": [],
   "source": []
  },
  {
   "cell_type": "code",
   "execution_count": 15,
   "metadata": {},
   "outputs": [],
   "source": [
    "testdata = pd.read_excel(\"sampleSubmission.xlsx\")"
   ]
  },
  {
   "cell_type": "code",
   "execution_count": 16,
   "metadata": {},
   "outputs": [
    {
     "data": {
      "text/plain": [
       "id        False\n",
       "label     False\n",
       " ADXR5    False\n",
       "APO5      False\n",
       " CMO5     False\n",
       "dtype: bool"
      ]
     },
     "execution_count": 16,
     "metadata": {},
     "output_type": "execute_result"
    }
   ],
   "source": [
    "testdata = testdata.fillna(0)\n",
    "testdata.isnull().any()"
   ]
  },
  {
   "cell_type": "code",
   "execution_count": 17,
   "metadata": {},
   "outputs": [
    {
     "data": {
      "text/html": [
       "<div>\n",
       "<style scoped>\n",
       "    .dataframe tbody tr th:only-of-type {\n",
       "        vertical-align: middle;\n",
       "    }\n",
       "\n",
       "    .dataframe tbody tr th {\n",
       "        vertical-align: top;\n",
       "    }\n",
       "\n",
       "    .dataframe thead th {\n",
       "        text-align: right;\n",
       "    }\n",
       "</style>\n",
       "<table border=\"1\" class=\"dataframe\">\n",
       "  <thead>\n",
       "    <tr style=\"text-align: right;\">\n",
       "      <th></th>\n",
       "      <th>ADXR5</th>\n",
       "      <th>APO5</th>\n",
       "      <th>CMO5</th>\n",
       "    </tr>\n",
       "  </thead>\n",
       "  <tbody>\n",
       "    <tr>\n",
       "      <td>0</td>\n",
       "      <td>48.464822</td>\n",
       "      <td>-0.695641</td>\n",
       "      <td>-6.625071</td>\n",
       "    </tr>\n",
       "    <tr>\n",
       "      <td>1</td>\n",
       "      <td>21.870374</td>\n",
       "      <td>-0.084295</td>\n",
       "      <td>-32.122044</td>\n",
       "    </tr>\n",
       "    <tr>\n",
       "      <td>2</td>\n",
       "      <td>49.494110</td>\n",
       "      <td>1.086282</td>\n",
       "      <td>20.563846</td>\n",
       "    </tr>\n",
       "    <tr>\n",
       "      <td>3</td>\n",
       "      <td>30.905367</td>\n",
       "      <td>0.141795</td>\n",
       "      <td>5.865096</td>\n",
       "    </tr>\n",
       "    <tr>\n",
       "      <td>4</td>\n",
       "      <td>38.524427</td>\n",
       "      <td>0.716218</td>\n",
       "      <td>-34.556350</td>\n",
       "    </tr>\n",
       "    <tr>\n",
       "      <td>...</td>\n",
       "      <td>...</td>\n",
       "      <td>...</td>\n",
       "      <td>...</td>\n",
       "    </tr>\n",
       "    <tr>\n",
       "      <td>11358</td>\n",
       "      <td>32.369636</td>\n",
       "      <td>3.460192</td>\n",
       "      <td>-36.110469</td>\n",
       "    </tr>\n",
       "    <tr>\n",
       "      <td>11359</td>\n",
       "      <td>63.076472</td>\n",
       "      <td>-2.762948</td>\n",
       "      <td>-49.755564</td>\n",
       "    </tr>\n",
       "    <tr>\n",
       "      <td>11360</td>\n",
       "      <td>41.075448</td>\n",
       "      <td>-1.730512</td>\n",
       "      <td>15.264412</td>\n",
       "    </tr>\n",
       "    <tr>\n",
       "      <td>11361</td>\n",
       "      <td>54.049060</td>\n",
       "      <td>3.766923</td>\n",
       "      <td>26.902289</td>\n",
       "    </tr>\n",
       "    <tr>\n",
       "      <td>11362</td>\n",
       "      <td>35.190196</td>\n",
       "      <td>-0.380321</td>\n",
       "      <td>-17.294760</td>\n",
       "    </tr>\n",
       "  </tbody>\n",
       "</table>\n",
       "<p>11363 rows × 3 columns</p>\n",
       "</div>"
      ],
      "text/plain": [
       "           ADXR5     APO5        CMO5\n",
       "0      48.464822 -0.695641  -6.625071\n",
       "1      21.870374 -0.084295 -32.122044\n",
       "2      49.494110  1.086282  20.563846\n",
       "3      30.905367  0.141795   5.865096\n",
       "4      38.524427  0.716218 -34.556350\n",
       "...          ...       ...        ...\n",
       "11358  32.369636  3.460192 -36.110469\n",
       "11359  63.076472 -2.762948 -49.755564\n",
       "11360  41.075448 -1.730512  15.264412\n",
       "11361  54.049060  3.766923  26.902289\n",
       "11362  35.190196 -0.380321 -17.294760\n",
       "\n",
       "[11363 rows x 3 columns]"
      ]
     },
     "execution_count": 17,
     "metadata": {},
     "output_type": "execute_result"
    }
   ],
   "source": [
    "testdata.iloc[:, 2:]"
   ]
  },
  {
   "cell_type": "code",
   "execution_count": 18,
   "metadata": {},
   "outputs": [],
   "source": [
    "result = clf.predict(testdata.iloc[:, 2:])"
   ]
  },
  {
   "cell_type": "code",
   "execution_count": 19,
   "metadata": {},
   "outputs": [],
   "source": [
    "pd.DataFrame(result).to_excel(\"prediction.xlsx\", index=False)"
   ]
  },
  {
   "cell_type": "code",
   "execution_count": null,
   "metadata": {},
   "outputs": [],
   "source": []
  },
  {
   "cell_type": "code",
   "execution_count": null,
   "metadata": {},
   "outputs": [],
   "source": []
  }
 ],
 "metadata": {
  "kernelspec": {
   "display_name": "Python 3",
   "language": "python",
   "name": "python3"
  },
  "language_info": {
   "codemirror_mode": {
    "name": "ipython",
    "version": 3
   },
   "file_extension": ".py",
   "mimetype": "text/x-python",
   "name": "python",
   "nbconvert_exporter": "python",
   "pygments_lexer": "ipython3",
   "version": "3.7.4"
  }
 },
 "nbformat": 4,
 "nbformat_minor": 4
}
